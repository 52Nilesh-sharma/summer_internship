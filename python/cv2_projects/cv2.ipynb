{
 "cells": [
  {
   "cell_type": "code",
   "execution_count": 13,
   "id": "a6de0685-0f37-48cb-8f3e-5b46375ae29c",
   "metadata": {},
   "outputs": [],
   "source": [
    "import cv2\n"
   ]
  },
  {
   "cell_type": "code",
   "execution_count": 14,
   "id": "308cbcc0-1c7e-4527-91ab-b9afc43a36cd",
   "metadata": {},
   "outputs": [
    {
     "data": {
      "text/plain": [
       "True"
      ]
     },
     "execution_count": 14,
     "metadata": {},
     "output_type": "execute_result"
    }
   ],
   "source": [
    "cap=cv2.VideoCapture(0)\n",
    "status ,photo =cap.read()\n",
    "cv2.imwrite(\"mypic.png\", photo)\n"
   ]
  },
  {
   "cell_type": "code",
   "execution_count": 9,
   "id": "c39e0b84-3e0c-4794-95a9-2025638770d6",
   "metadata": {},
   "outputs": [
    {
     "ename": "AttributeError",
     "evalue": "module 'cv2' has no attribute 'destroyAllWindow'",
     "output_type": "error",
     "traceback": [
      "\u001b[31m---------------------------------------------------------------------------\u001b[39m",
      "\u001b[31mAttributeError\u001b[39m                            Traceback (most recent call last)",
      "\u001b[36mCell\u001b[39m\u001b[36m \u001b[39m\u001b[32mIn[9]\u001b[39m\u001b[32m, line 3\u001b[39m\n\u001b[32m      1\u001b[39m cv2.imshow(\u001b[33m\"\u001b[39m\u001b[33mmyphoto\u001b[39m\u001b[33m\"\u001b[39m,photo)\n\u001b[32m      2\u001b[39m cv2.waitKey()\n\u001b[32m----> \u001b[39m\u001b[32m3\u001b[39m \u001b[43mcv2\u001b[49m\u001b[43m.\u001b[49m\u001b[43mdestroyAllWindow\u001b[49m()\n",
      "\u001b[31mAttributeError\u001b[39m: module 'cv2' has no attribute 'destroyAllWindow'"
     ]
    }
   ],
   "source": [
    "cv2.imshow(\"myphoto\",photo)\n",
    "cv2.waitKey()\n",
    "cv2.destroyAllWindow()\n"
   ]
  },
  {
   "cell_type": "code",
   "execution_count": 16,
   "id": "02b71d27-ce2f-454c-9665-519680b55e43",
   "metadata": {},
   "outputs": [],
   "source": [
    "cap.release()\n"
   ]
  },
  {
   "cell_type": "code",
   "execution_count": 15,
   "id": "af9d2906-e9b7-4a5c-a49a-4dc4ca2505ac",
   "metadata": {},
   "outputs": [],
   "source": [
    "while True:\n",
    "    status ,photo =cap.read()\n",
    "    cv2.imwrite(\"mypic.png\", photo)\n",
    "    cv2.imshow(\"myphoto\",photo)\n",
    "    if cv2.waitKey(50) == 13:\n",
    "        break\n",
    "\n",
    "cv2.destroyAllWindows()\n"
   ]
  },
  {
   "cell_type": "code",
   "execution_count": null,
   "id": "7ac5bef3-54b9-46d7-aa69-11cd81fd4f4c",
   "metadata": {},
   "outputs": [],
   "source": []
  }
 ],
 "metadata": {
  "kernelspec": {
   "display_name": "Python 3 (ipykernel)",
   "language": "python",
   "name": "python3"
  },
  "language_info": {
   "codemirror_mode": {
    "name": "ipython",
    "version": 3
   },
   "file_extension": ".py",
   "mimetype": "text/x-python",
   "name": "python",
   "nbconvert_exporter": "python",
   "pygments_lexer": "ipython3",
   "version": "3.13.3"
  }
 },
 "nbformat": 4,
 "nbformat_minor": 5
}
